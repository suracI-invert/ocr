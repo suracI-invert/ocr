{
 "cells": [
  {
   "cell_type": "code",
   "execution_count": 6,
   "metadata": {},
   "outputs": [],
   "source": [
    "import pandas as pd\n",
    "import os\n",
    "from PIL import Image"
   ]
  },
  {
   "cell_type": "code",
   "execution_count": 2,
   "metadata": {},
   "outputs": [],
   "source": [
    "lines = []\n",
    "with open('../data/train_gt.txt', encoding= 'utf8') as f:\n",
    "    lines = f.readlines()"
   ]
  },
  {
   "cell_type": "code",
   "execution_count": 3,
   "metadata": {},
   "outputs": [],
   "source": [
    "paths = []\n",
    "labels = []\n",
    "for l in lines:\n",
    "    path, label = l.strip().split()\n",
    "    paths.append(path)\n",
    "    labels.append(label)\n",
    "\n",
    "data_train = pd.DataFrame({\n",
    "    'path': paths,\n",
    "    'label': labels\n",
    "})"
   ]
  },
  {
   "cell_type": "code",
   "execution_count": 4,
   "metadata": {},
   "outputs": [],
   "source": [
    "test_paths = os.listdir('../data/new_public_test/')"
   ]
  },
  {
   "cell_type": "code",
   "execution_count": 6,
   "metadata": {},
   "outputs": [],
   "source": [
    "# with open('./../data/valid_annotation.txt', 'wt', encoding= 'utf8') as f:\n",
    "#     for i in range(len(data[-10000:])):\n",
    "#         line = 'new_train/' + data['path'][i] + '\\t' + data['label'][i] + '\\n'\n",
    "#         f.write(line)"
   ]
  },
  {
   "cell_type": "code",
   "execution_count": 13,
   "metadata": {},
   "outputs": [
    {
     "name": "stdout",
     "output_type": "stream",
     "text": [
      "136000\n",
      "136000\n"
     ]
    }
   ],
   "source": [
    "image_dimensions = []\n",
    "image_ratios = []\n",
    "\n",
    "for i in range(len(data_train)):\n",
    "    img = Image.open(os.path.join('../data/new_train/', data_train['path'][i]))\n",
    "    w, h = img.size\n",
    "    image_dimensions.append((w, h))\n",
    "    image_ratios.append(w/h)\n",
    "for i in range(len(test_paths)):\n",
    "    img = Image.open(os.path.join('../data/new_public_test/', test_paths[i]))\n",
    "    w, h = img.size\n",
    "    image_dimensions.append((w, h))\n",
    "    image_ratios.append(w/h)\n",
    "\n",
    "print(len(image_dimensions))\n",
    "print(len(image_ratios))"
   ]
  },
  {
   "cell_type": "code",
   "execution_count": 16,
   "metadata": {},
   "outputs": [
    {
     "name": "stdout",
     "output_type": "stream",
     "text": [
      "Average Image Train Height: 71.90 pixels\n",
      "Average Image Train Raio: 1.89\n",
      "Average Image Test Height: 72.38 pixels\n",
      "Average Image Test Raio: 1.86\n"
     ]
    }
   ],
   "source": [
    "total_train_ratio = sum(r for r in image_ratios[:103000])\n",
    "total_test_ratio = sum(r for r in image_ratios[103000:])\n",
    "\n",
    "avg_train_ratio = total_train_ratio / 103_000\n",
    "avg_test_ratio = total_test_ratio / (len(image_ratios) - 103_000)\n",
    "\n",
    "total_train_h = sum(d[1] for d in image_dimensions[:103_000])\n",
    "total_test_h = sum(d[1] for d in image_dimensions[103_000:])\n",
    "\n",
    "avg_train_h = total_train_h / 103_000\n",
    "avg_test_h = total_test_h / (len(image_dimensions) - 103_000)\n",
    "\n",
    "print(f\"Average Image Train Height: {avg_train_h:.2f} pixels\")\n",
    "print(f\"Average Image Train Raio: {avg_train_ratio:.2f}\")\n",
    "print(f\"Average Image Test Height: {avg_test_h:.2f} pixels\")\n",
    "print(f\"Average Image Test Raio: {avg_test_ratio:.2f}\")"
   ]
  },
  {
   "cell_type": "code",
   "execution_count": null,
   "metadata": {},
   "outputs": [],
   "source": []
  }
 ],
 "metadata": {
  "kernelspec": {
   "display_name": "alqac",
   "language": "python",
   "name": "python3"
  },
  "language_info": {
   "codemirror_mode": {
    "name": "ipython",
    "version": 3
   },
   "file_extension": ".py",
   "mimetype": "text/x-python",
   "name": "python",
   "nbconvert_exporter": "python",
   "pygments_lexer": "ipython3",
   "version": "3.10.12"
  },
  "orig_nbformat": 4
 },
 "nbformat": 4,
 "nbformat_minor": 2
}
